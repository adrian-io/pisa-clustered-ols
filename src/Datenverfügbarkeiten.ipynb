{
 "cells": [
  {
   "cell_type": "code",
   "execution_count": 5,
   "metadata": {},
   "outputs": [],
   "source": [
    "#Pandas, Numpy importieren\n",
    "import pandas as pd\n",
    "import numpy as np\n",
    "import seaborn as sns\n",
    "import sklearn as sl\n",
    "import scipy.stats\n",
    "import statsmodels.api as sm\n",
    "import matplotlib.pyplot as plt\n",
    "\n",
    "#Importeieren der Modelle aus verschiedenen Bibliotheken\n",
    "from sklearn.linear_model import LinearRegression\n",
    "from statsmodels.regression.linear_model import GLS\n",
    "from linearmodels.panel import PooledOLS\n",
    "\n",
    "\n",
    "# Splitting data into training and testing\n",
    "from sklearn.model_selection import train_test_split\n",
    "from sklearn.model_selection import cross_validate\n",
    "from sklearn.model_selection import cross_val_score\n",
    "from sklearn.model_selection import StratifiedKFold, KFold\n",
    "\n",
    "from sklearn.model_selection import train_test_split\n",
    "\n",
    "# No warnings about setting value on copy of slice\n",
    "pd.options.mode.chained_assignment = None\n",
    "\n",
    "# Display up to 60 columns of a dataframe\n",
    "pd.set_option('display.max_columns', 600)\n",
    "\n",
    "# Matplotlib visualization\n",
    "%matplotlib inline\n",
    "# Set default font size\n",
    "plt.rcParams['font.size'] = 24\n",
    "\n",
    "# Internal ipython tool for setting figure size\n",
    "from IPython.core.pylabtools import figsize\n",
    "#figsize(6, 6)\n",
    "\n",
    "# Seaborn for visualization\n",
    "sns.set(font_scale = 2)"
   ]
  },
  {
   "cell_type": "code",
   "execution_count": 6,
   "metadata": {},
   "outputs": [
    {
     "data": {
      "text/html": [
       "<div>\n",
       "<style scoped>\n",
       "    .dataframe tbody tr th:only-of-type {\n",
       "        vertical-align: middle;\n",
       "    }\n",
       "\n",
       "    .dataframe tbody tr th {\n",
       "        vertical-align: top;\n",
       "    }\n",
       "\n",
       "    .dataframe thead th {\n",
       "        text-align: right;\n",
       "    }\n",
       "</style>\n",
       "<table border=\"1\" class=\"dataframe\">\n",
       "  <thead>\n",
       "    <tr style=\"text-align: right;\">\n",
       "      <th></th>\n",
       "      <th>LOCATION</th>\n",
       "      <th>SUBJECT</th>\n",
       "      <th>TIME</th>\n",
       "      <th>PISA Math</th>\n",
       "      <th>PISA Read</th>\n",
       "      <th>PISA Science</th>\n",
       "      <th>GINI</th>\n",
       "      <th>MIGRANTS</th>\n",
       "      <th>STR_SRY</th>\n",
       "      <th>GDP</th>\n",
       "      <th>EDU_SPENDING</th>\n",
       "      <th>CPI</th>\n",
       "      <th>ALC_PC</th>\n",
       "      <th>INTERNET_PC</th>\n",
       "      <th>PCT_EDU_TRY</th>\n",
       "      <th>HOMICIDES</th>\n",
       "    </tr>\n",
       "  </thead>\n",
       "  <tbody>\n",
       "    <tr>\n",
       "      <th>0</th>\n",
       "      <td>AUS</td>\n",
       "      <td>TOT</td>\n",
       "      <td>2003.0</td>\n",
       "      <td>524.0</td>\n",
       "      <td>525.0</td>\n",
       "      <td>NaN</td>\n",
       "      <td>0.3260</td>\n",
       "      <td>23.618490</td>\n",
       "      <td>NaN</td>\n",
       "      <td>32245.447585</td>\n",
       "      <td>16.058967</td>\n",
       "      <td>88.0</td>\n",
       "      <td>10.3</td>\n",
       "      <td>60.00</td>\n",
       "      <td>31.314152</td>\n",
       "      <td>1.538919</td>\n",
       "    </tr>\n",
       "    <tr>\n",
       "      <th>1</th>\n",
       "      <td>AUS</td>\n",
       "      <td>TOT</td>\n",
       "      <td>2006.0</td>\n",
       "      <td>520.0</td>\n",
       "      <td>513.0</td>\n",
       "      <td>527.0</td>\n",
       "      <td>0.3260</td>\n",
       "      <td>24.557012</td>\n",
       "      <td>NaN</td>\n",
       "      <td>37844.782088</td>\n",
       "      <td>16.069185</td>\n",
       "      <td>87.0</td>\n",
       "      <td>10.8</td>\n",
       "      <td>64.00</td>\n",
       "      <td>33.022213</td>\n",
       "      <td>1.368975</td>\n",
       "    </tr>\n",
       "    <tr>\n",
       "      <th>2</th>\n",
       "      <td>AUS</td>\n",
       "      <td>TOT</td>\n",
       "      <td>2009.0</td>\n",
       "      <td>514.0</td>\n",
       "      <td>515.0</td>\n",
       "      <td>527.0</td>\n",
       "      <td>0.3260</td>\n",
       "      <td>26.047489</td>\n",
       "      <td>NaN</td>\n",
       "      <td>41615.326657</td>\n",
       "      <td>16.079402</td>\n",
       "      <td>87.0</td>\n",
       "      <td>10.7</td>\n",
       "      <td>75.46</td>\n",
       "      <td>36.881355</td>\n",
       "      <td>1.209148</td>\n",
       "    </tr>\n",
       "    <tr>\n",
       "      <th>3</th>\n",
       "      <td>AUS</td>\n",
       "      <td>TOT</td>\n",
       "      <td>2012.0</td>\n",
       "      <td>504.0</td>\n",
       "      <td>512.0</td>\n",
       "      <td>521.0</td>\n",
       "      <td>0.3260</td>\n",
       "      <td>27.213952</td>\n",
       "      <td>NaN</td>\n",
       "      <td>43879.180355</td>\n",
       "      <td>16.089620</td>\n",
       "      <td>85.0</td>\n",
       "      <td>10.0</td>\n",
       "      <td>83.00</td>\n",
       "      <td>41.282364</td>\n",
       "      <td>1.060952</td>\n",
       "    </tr>\n",
       "    <tr>\n",
       "      <th>4</th>\n",
       "      <td>AUS</td>\n",
       "      <td>TOT</td>\n",
       "      <td>2015.0</td>\n",
       "      <td>494.0</td>\n",
       "      <td>503.0</td>\n",
       "      <td>510.0</td>\n",
       "      <td>0.3335</td>\n",
       "      <td>28.218410</td>\n",
       "      <td>NaN</td>\n",
       "      <td>47304.816745</td>\n",
       "      <td>17.136250</td>\n",
       "      <td>79.0</td>\n",
       "      <td>9.8</td>\n",
       "      <td>86.00</td>\n",
       "      <td>42.888756</td>\n",
       "      <td>0.986107</td>\n",
       "    </tr>\n",
       "  </tbody>\n",
       "</table>\n",
       "</div>"
      ],
      "text/plain": [
       "  LOCATION SUBJECT    TIME  PISA Math  PISA Read  PISA Science    GINI  \\\n",
       "0      AUS     TOT  2003.0      524.0      525.0           NaN  0.3260   \n",
       "1      AUS     TOT  2006.0      520.0      513.0         527.0  0.3260   \n",
       "2      AUS     TOT  2009.0      514.0      515.0         527.0  0.3260   \n",
       "3      AUS     TOT  2012.0      504.0      512.0         521.0  0.3260   \n",
       "4      AUS     TOT  2015.0      494.0      503.0         510.0  0.3335   \n",
       "\n",
       "    MIGRANTS  STR_SRY           GDP  EDU_SPENDING   CPI  ALC_PC  INTERNET_PC  \\\n",
       "0  23.618490      NaN  32245.447585     16.058967  88.0    10.3        60.00   \n",
       "1  24.557012      NaN  37844.782088     16.069185  87.0    10.8        64.00   \n",
       "2  26.047489      NaN  41615.326657     16.079402  87.0    10.7        75.46   \n",
       "3  27.213952      NaN  43879.180355     16.089620  85.0    10.0        83.00   \n",
       "4  28.218410      NaN  47304.816745     17.136250  79.0     9.8        86.00   \n",
       "\n",
       "   PCT_EDU_TRY  HOMICIDES  \n",
       "0    31.314152   1.538919  \n",
       "1    33.022213   1.368975  \n",
       "2    36.881355   1.209148  \n",
       "3    41.282364   1.060952  \n",
       "4    42.888756   0.986107  "
      ]
     },
     "execution_count": 6,
     "metadata": {},
     "output_type": "execute_result"
    }
   ],
   "source": [
    "data = pd.read_csv('../../data/all_nan.csv')\n",
    "data.head()"
   ]
  },
  {
   "cell_type": "markdown",
   "metadata": {},
   "source": [
    "# CPI"
   ]
  },
  {
   "cell_type": "code",
   "execution_count": 7,
   "metadata": {},
   "outputs": [],
   "source": [
    "data_cpi_math = data[['PISA Math', 'CPI']]\n",
    "data_cpi_read = data[['PISA Read', 'CPI']]\n",
    "data_cpi_science = data[['PISA Science', 'CPI']]"
   ]
  },
  {
   "cell_type": "markdown",
   "metadata": {},
   "source": [
    "CPI Daten sind vollständing vorhanden, auch ohne Interpolation."
   ]
  },
  {
   "cell_type": "code",
   "execution_count": 8,
   "metadata": {},
   "outputs": [
    {
     "name": "stdout",
     "output_type": "stream",
     "text": [
      "<class 'pandas.core.frame.DataFrame'>\n",
      "RangeIndex: 261 entries, 0 to 260\n",
      "Data columns (total 2 columns):\n",
      " #   Column     Non-Null Count  Dtype  \n",
      "---  ------     --------------  -----  \n",
      " 0   PISA Read  259 non-null    float64\n",
      " 1   CPI        260 non-null    float64\n",
      "dtypes: float64(2)\n",
      "memory usage: 4.2 KB\n"
     ]
    }
   ],
   "source": [
    "data_cpi_read.info()"
   ]
  },
  {
   "cell_type": "code",
   "execution_count": 9,
   "metadata": {},
   "outputs": [
    {
     "data": {
      "text/plain": [
       "<AxesSubplot:xlabel='CPI', ylabel='Count'>"
      ]
     },
     "execution_count": 9,
     "metadata": {},
     "output_type": "execute_result"
    },
    {
     "data": {
      "image/png": "[encoded data removed]",
      "text/plain": [
       "<Figure size 504x360 with 1 Axes>"
      ]
     },
     "metadata": {},
     "output_type": "display_data"
    }
   ],
   "source": [
    "sns.set_theme(style=\"ticks\")\n",
    "\n",
    "f, ax = plt.subplots(figsize=(7, 5))\n",
    "sns.despine(f)\n",
    "\n",
    "sns.histplot(data_cpi_math['CPI'], color='mediumaquamarine')\n"
   ]
  },
  {
   "cell_type": "code",
   "execution_count": 10,
   "metadata": {},
   "outputs": [
    {
     "name": "stderr",
     "output_type": "stream",
     "text": [
      "/Users/derboss/opt/anaconda3/lib/python3.8/site-packages/seaborn/_decorators.py:36: FutureWarning: Pass the following variable as a keyword arg: x. From version 0.12, the only valid positional argument will be `data`, and passing other arguments without an explicit keyword will result in an error or misinterpretation.\n",
      "  warnings.warn(\n"
     ]
    },
    {
     "data": {
      "text/plain": [
       "<AxesSubplot:xlabel='CPI'>"
      ]
     },
     "execution_count": 10,
     "metadata": {},
     "output_type": "execute_result"
    },
    {
     "data": {
      "image/png": "[encoded data removed]",
      "text/plain": [
       "<Figure size 432x288 with 1 Axes>"
      ]
     },
     "metadata": {},
     "output_type": "display_data"
    }
   ],
   "source": [
    "# box-plot\n",
    "sns.boxplot(data_cpi_math['CPI'],color='mediumaquamarine')\n",
    "#plt.show()"
   ]
  },
  {
   "cell_type": "markdown",
   "metadata": {},
   "source": [
    "# Gini\n",
    "\n",
    "Gini Daten wurden interpoliert."
   ]
  },
  {
   "cell_type": "code",
   "execution_count": 12,
   "metadata": {},
   "outputs": [
    {
     "name": "stdout",
     "output_type": "stream",
     "text": [
      "<class 'pandas.core.frame.DataFrame'>\n",
      "RangeIndex: 880 entries, 0 to 879\n",
      "Data columns (total 3 columns):\n",
      " #   Column    Non-Null Count  Dtype  \n",
      "---  ------    --------------  -----  \n",
      " 0   LOCATION  880 non-null    object \n",
      " 1   TIME      880 non-null    object \n",
      " 2   GINI      400 non-null    float64\n",
      "dtypes: float64(1), object(2)\n",
      "memory usage: 20.8+ KB\n"
     ]
    },
    {
     "data": {
      "text/html": [
       "<div>\n",
       "<style scoped>\n",
       "    .dataframe tbody tr th:only-of-type {\n",
       "        vertical-align: middle;\n",
       "    }\n",
       "\n",
       "    .dataframe tbody tr th {\n",
       "        vertical-align: top;\n",
       "    }\n",
       "\n",
       "    .dataframe thead th {\n",
       "        text-align: right;\n",
       "    }\n",
       "</style>\n",
       "<table border=\"1\" class=\"dataframe\">\n",
       "  <thead>\n",
       "    <tr style=\"text-align: right;\">\n",
       "      <th></th>\n",
       "      <th>LOCATION</th>\n",
       "      <th>TIME</th>\n",
       "      <th>GINI</th>\n",
       "    </tr>\n",
       "  </thead>\n",
       "  <tbody>\n",
       "    <tr>\n",
       "      <th>0</th>\n",
       "      <td>AUS</td>\n",
       "      <td>2000</td>\n",
       "      <td>NaN</td>\n",
       "    </tr>\n",
       "    <tr>\n",
       "      <th>1</th>\n",
       "      <td>AUT</td>\n",
       "      <td>2000</td>\n",
       "      <td>NaN</td>\n",
       "    </tr>\n",
       "    <tr>\n",
       "      <th>2</th>\n",
       "      <td>BEL</td>\n",
       "      <td>2000</td>\n",
       "      <td>NaN</td>\n",
       "    </tr>\n",
       "    <tr>\n",
       "      <th>3</th>\n",
       "      <td>BGR</td>\n",
       "      <td>2000</td>\n",
       "      <td>NaN</td>\n",
       "    </tr>\n",
       "    <tr>\n",
       "      <th>4</th>\n",
       "      <td>BRA</td>\n",
       "      <td>2000</td>\n",
       "      <td>NaN</td>\n",
       "    </tr>\n",
       "  </tbody>\n",
       "</table>\n",
       "</div>"
      ],
      "text/plain": [
       "  LOCATION  TIME  GINI\n",
       "0      AUS  2000   NaN\n",
       "1      AUT  2000   NaN\n",
       "2      BEL  2000   NaN\n",
       "3      BGR  2000   NaN\n",
       "4      BRA  2000   NaN"
      ]
     },
     "execution_count": 12,
     "metadata": {},
     "output_type": "execute_result"
    }
   ],
   "source": [
    "#import csv file\n",
    "data_gini = pd.read_csv(\"../../data/income_inequality.csv\")\n",
    "#remove useless  \n",
    "# data_gini.head()\n",
    "data_gini = data_gini[data_gini[\"SUBJECT\"] == \"GINI\"]\n",
    "data_gini = data_gini[[\"LOCATION\", \"TIME\", \"Value\"]]\n",
    "data_gini.columns = [\"LOCATION\", \"TIME\", \"GINI\"]\n",
    "#print(data_gini.info())\n",
    "\n",
    "data_gini = data_gini[data_gini[\"TIME\"] >= 2000]\n",
    "\n",
    "# In Zeitreihen verwandeln\n",
    "data_gini_int = data_gini.pivot_table(\"GINI\", \"LOCATION\", \"TIME\")\n",
    "\n",
    "# transform back to normal df\n",
    "data_gini_int.columns.name = None               #remove categories\n",
    "data_gini_int = data_gini_int.reset_index()\n",
    "#index to columns\n",
    "\n",
    "data_gini_labels = data_gini_int\n",
    "#print(data_gini_labels)\n",
    "\n",
    "# turn every year column into own column entry\n",
    "data_gini_int = data_gini_int.melt(id_vars='LOCATION', \n",
    "                                     var_name=\"TIME\", value_name=\"GINI\")\n",
    "data_gini = data_gini_int\n",
    "data_gini.info()\n",
    "data_gini[data_gini[\"LOCATION\"] == \"BRA\"].head(100)\n",
    "data_gini = data_gini.astype({\"TIME\": int})\n",
    "data_gini.head()"
   ]
  },
  {
   "cell_type": "code",
   "execution_count": null,
   "metadata": {},
   "outputs": [],
   "source": [
    "data_pisa_math = pd.read_csv('../../data/PISA_Raw/Pisa_Math_Raw.csv')\n",
    "data_pisa_read = pd.read_csv('../../data/PISA_Raw/Pisa_Read_Raw.csv')\n",
    "data_pisa_science = pd.read_csv('../../data/PISA_Raw/Pisa_Science_Raw.csv')\n",
    "\n",
    "data_pisa_math = data_pisa_math[data_pisa_math['SUBJECT'] == 'TOT']\n",
    "data_pisa_read = data_pisa_read[data_pisa_read['SUBJECT'] == 'TOT']\n",
    "data_pisa_science = data_pisa_science[data_pisa_science['SUBJECT'] == 'TOT']\n",
    "\n",
    "data_pisa_math = data_pisa_math.rename(columns = {'Value': 'PISA'})\n",
    "data_pisa_read = data_pisa_read.rename(columns = {'Value': 'PISA'})\n",
    "data_pisa_science = data_pisa_science.rename(columns = {'Value': 'PISA'})\n",
    "\n",
    "data_pisa_math = data_pisa_math[['LOCATION', 'TIME', 'PISA']]\n",
    "data_pisa_read = data_pisa_read[['LOCATION', 'TIME', 'PISA']]\n",
    "data_pisa_science = data_pisa_science[['LOCATION', 'TIME', 'PISA']]\n",
    "\n",
    "\n",
    "\n",
    "\n",
    "data2 = data_pisa_math.merge(data_gini, how=\"left\", left_on = ['LOCATION', 'TIME'], \n",
    "                                right_on = ['LOCATION', 'TIME'])\n",
    "data3 = data_pisa_read.merge(data_gini, how=\"left\", left_on = ['LOCATION', 'TIME'], \n",
    "                                right_on = ['LOCATION', 'TIME'])\n",
    "data4 = data_pisa_science.merge(data_gini, how=\"left\", left_on = ['LOCATION', 'TIME'], \n",
    "                                right_on = ['LOCATION', 'TIME'])\n",
    "\n",
    "\n",
    "print('Datenverfügbarkeit GINI/PISA Read: ')\n",
    "data3.info()\n",
    "print('\\n')\n",
    "print('Datenverfügbarkeit GINI/PISA Math: ')\n",
    "data2.info()\n",
    "print('\\n')\n",
    "print('Datenverfügbarkeit GINI/PISA Science: ')\n",
    "data4.info()"
   ]
  },
  {
   "cell_type": "code",
   "execution_count": null,
   "metadata": {},
   "outputs": [],
   "source": [
    "data_gini = data_gini.dropna()\n",
    "\n",
    "sns.set_theme(style=\"ticks\")\n",
    "\n",
    "f, ax = plt.subplots(figsize=(7, 5))\n",
    "sns.despine(f)\n",
    "\n",
    "sns.histplot(data_gini['GINI'], color='mediumaquamarine')"
   ]
  },
  {
   "cell_type": "code",
   "execution_count": null,
   "metadata": {},
   "outputs": [],
   "source": [
    "# box-plot\n",
    "sns.boxplot(data_gini['GINI'],color='mediumaquamarine')"
   ]
  },
  {
   "cell_type": "markdown",
   "metadata": {},
   "source": [
    "# Anteil der Bölkerung mit tertiärer Bildung"
   ]
  },
  {
   "cell_type": "code",
   "execution_count": null,
   "metadata": {},
   "outputs": [],
   "source": [
    "data_edu_try = pd.read_csv(\"../../data/tertiary_edu.csv\")\n",
    "\n",
    "data_edu_try = data_edu_try[[\"LOCATION\", \"TIME\", \"Value\"]]\n",
    "data_edu_try = data_edu_try.rename(columns={\"Value\": \"PCT_EDU_TRY\"})\n",
    "\n",
    "data_edu_try.head()"
   ]
  },
  {
   "cell_type": "code",
   "execution_count": null,
   "metadata": {},
   "outputs": [],
   "source": [
    "data_edu_try_math = data_pisa_math.merge(data_edu_try, how=\"left\", left_on = ['LOCATION', 'TIME'], \n",
    "                                right_on = ['LOCATION', 'TIME'])\n",
    "data_edu_try_read = data_pisa_read.merge(data_edu_try, how=\"left\", left_on = ['LOCATION', 'TIME'], \n",
    "                                right_on = ['LOCATION', 'TIME'])\n",
    "data_edu_try_science = data_pisa_science.merge(data_edu_try, how=\"left\", left_on = ['LOCATION', 'TIME'], \n",
    "                                right_on = ['LOCATION', 'TIME'])\n",
    "\n",
    "print('Datenverfügbarkeit GINI/PISA Read: ')\n",
    "data_edu_try_read.info()\n",
    "print('\\n')\n",
    "print('Datenverfügbarkeit GINI/PISA Math: ')\n",
    "data_edu_try_math.info()\n",
    "print('\\n')\n",
    "print('Datenverfügbarkeit GINI/PISA Science: ')\n",
    "data_edu_try_science.info()"
   ]
  },
  {
   "cell_type": "code",
   "execution_count": null,
   "metadata": {},
   "outputs": [],
   "source": [
    "data_edu_try_math = data_edu_try_math.dropna()\n",
    "\n",
    "sns.set_theme(style=\"ticks\")\n",
    "\n",
    "f, ax = plt.subplots(figsize=(7, 5))\n",
    "sns.despine(f)\n",
    "\n",
    "sns.histplot(data_edu_try_math['PCT_EDU_TRY'], color='mediumaquamarine')"
   ]
  },
  {
   "cell_type": "code",
   "execution_count": null,
   "metadata": {},
   "outputs": [],
   "source": [
    "sns.boxplot(data_edu_try_math['PCT_EDU_TRY'],color='mediumaquamarine')"
   ]
  },
  {
   "cell_type": "markdown",
   "metadata": {},
   "source": [
    "# Bildungsausgaben"
   ]
  },
  {
   "cell_type": "code",
   "execution_count": null,
   "metadata": {},
   "outputs": [],
   "source": [
    "data_edu_spending = pd.read_csv(\"../../data/education_spending/EducationSpendingTertiär2000_2016.csv\")\n",
    "data_edu_spending = data_edu_spending[['LOCATION', 'TIME', 'Value']]\n",
    "data_edu_spending = data_edu_spending.rename(columns = {'Value': 'EDU_SPENDING'})\n",
    "\n",
    "\n",
    "data_edu_spending.head()"
   ]
  },
  {
   "cell_type": "code",
   "execution_count": null,
   "metadata": {},
   "outputs": [],
   "source": [
    "data_internet_math = data_pisa_math.merge(data_edu_spending, how=\"left\", left_on = ['LOCATION', 'TIME'], \n",
    "                                right_on = ['LOCATION', 'TIME'])\n",
    "data_internet_read = data_pisa_read.merge(data_edu_spending, how=\"left\", left_on = ['LOCATION', 'TIME'], \n",
    "                                right_on = ['LOCATION', 'TIME'])\n",
    "data_internet_science = data_pisa_science.merge(data_edu_spending, how=\"left\", left_on = ['LOCATION', 'TIME'], \n",
    "                                right_on = ['LOCATION', 'TIME'])\n",
    "\n",
    "print('Datenverfügbarkeit GINI/PISA Read: ')\n",
    "data_internet_read.info()\n",
    "print('\\n')\n",
    "print('Datenverfügbarkeit GINI/PISA Math: ')\n",
    "data_internet_math.info()\n",
    "print('\\n')\n",
    "print('Datenverfügbarkeit GINI/PISA Science: ')\n",
    "data_internet_science.info()"
   ]
  },
  {
   "cell_type": "code",
   "execution_count": null,
   "metadata": {},
   "outputs": [],
   "source": [
    "data_edu_spending = data_edu_spending.dropna()\n",
    "\n",
    "sns.set_theme(style=\"ticks\")\n",
    "\n",
    "f, ax = plt.subplots(figsize=(7, 5))\n",
    "sns.despine(f)\n",
    "\n",
    "sns.histplot(data_edu_spending['EDU_SPENDING'], color='mediumaquamarine')"
   ]
  },
  {
   "cell_type": "code",
   "execution_count": null,
   "metadata": {},
   "outputs": [],
   "source": [
    "sns.boxplot(data_edu_spending['EDU_SPENDING'],color='mediumaquamarine')"
   ]
  },
  {
   "cell_type": "markdown",
   "metadata": {},
   "source": [
    "# Alkoholkonsum"
   ]
  },
  {
   "cell_type": "code",
   "execution_count": null,
   "metadata": {},
   "outputs": [],
   "source": [
    "# Import\n",
    "data_alc = pd.read_csv('../../data/alcohol_consumption.csv')"
   ]
  },
  {
   "cell_type": "code",
   "execution_count": null,
   "metadata": {},
   "outputs": [],
   "source": [
    "data_alc = data_alc[['LOCATION', 'TIME', 'Value']]\n",
    "#data_alc = data_alc[data_alc['TIME'] == YEAR]\n",
    "data_alc = data_alc.rename(columns = {'Value' : 'ALC_PC'})\n",
    "\n",
    "data_alc.head()"
   ]
  },
  {
   "cell_type": "code",
   "execution_count": null,
   "metadata": {},
   "outputs": [],
   "source": [
    "data_alc_math = data_pisa_math.merge(data_alc, how=\"left\", left_on = ['LOCATION', 'TIME'], \n",
    "                                right_on = ['LOCATION', 'TIME'])\n",
    "data_alc_read = data_pisa_read.merge(data_alc, how=\"left\", left_on = ['LOCATION', 'TIME'], \n",
    "                                right_on = ['LOCATION', 'TIME'])\n",
    "data_alc_science = data_pisa_science.merge(data_alc, how=\"left\", left_on = ['LOCATION', 'TIME'], \n",
    "                                right_on = ['LOCATION', 'TIME'])\n",
    "\n",
    "print('Datenverfügbarkeit GINI/PISA Read: ')\n",
    "data_alc_read.info()\n",
    "print('\\n')\n",
    "print('Datenverfügbarkeit GINI/PISA Math: ')\n",
    "data_alc_math.info()\n",
    "print('\\n')\n",
    "print('Datenverfügbarkeit GINI/PISA Science: ')\n",
    "data_alc_science.info()"
   ]
  },
  {
   "cell_type": "code",
   "execution_count": null,
   "metadata": {},
   "outputs": [],
   "source": [
    "data_alc_math = data_alc_math.dropna()\n",
    "\n",
    "sns.set_theme(style=\"ticks\")\n",
    "\n",
    "f, ax = plt.subplots(figsize=(7, 5))\n",
    "sns.despine(f)\n",
    "\n",
    "sns.histplot(data_alc['ALC_PC'], color='mediumaquamarine')"
   ]
  },
  {
   "cell_type": "code",
   "execution_count": null,
   "metadata": {},
   "outputs": [],
   "source": [
    "sns.boxplot(data_alc['ALC_PC'],color='mediumaquamarine')"
   ]
  },
  {
   "cell_type": "markdown",
   "metadata": {},
   "source": [
    "# Mordrate "
   ]
  },
  {
   "cell_type": "code",
   "execution_count": null,
   "metadata": {},
   "outputs": [],
   "source": [
    "#import csv file\n",
    "data_homicide = pd.read_csv(\"../../data/homicide_rate.csv\")\n",
    "\n",
    "data_homicide_int = data_homicide.iloc[:, 34:63]\n",
    "\n",
    "data_homicde = data_homicide[[\"Country Code\"]]\n",
    "\n",
    "data_homicde = data_homicde.rename(columns={\"Country Code\": \"LOCATION\"})\n",
    "\n",
    "data_homicide = pd.concat([data_homicde[[\"LOCATION\"]], data_homicide_int]\n",
    "                            , ignore_index = None, axis=1)\n",
    "\n",
    "# # turn every year column into own column entry\n",
    "data_homicide = data_homicide.melt(id_vars='LOCATION', \n",
    "                                     var_name=\"TIME\",value_name=\"HOMICIDES\")\n",
    "# typecast; otherwise no merging possible\n",
    "data_homicide.TIME = data_homicide.TIME.apply(pd.to_numeric)\n",
    "\n",
    "# data_homicide_int.info()\n",
    "# data_homicide_int.head()\n",
    "#data_homicide.info()\n",
    "#data_homicide.head()"
   ]
  },
  {
   "cell_type": "code",
   "execution_count": null,
   "metadata": {},
   "outputs": [],
   "source": [
    "data_homicide_math = data_pisa_math.merge(data_homicide, how=\"left\", left_on = ['LOCATION', 'TIME'], \n",
    "                                right_on = ['LOCATION', 'TIME'])\n",
    "data_homicide_read = data_pisa_read.merge(data_homicide, how=\"left\", left_on = ['LOCATION', 'TIME'], \n",
    "                                right_on = ['LOCATION', 'TIME'])\n",
    "data_homicide_science = data_pisa_science.merge(data_homicide, how=\"left\", left_on = ['LOCATION', 'TIME'], \n",
    "                                right_on = ['LOCATION', 'TIME'])\n",
    "\n",
    "print('Datenverfügbarkeit GINI/PISA Read: ')\n",
    "data_homicide_read.info()\n",
    "print('\\n')\n",
    "print('Datenverfügbarkeit GINI/PISA Math: ')\n",
    "data_homicide_math.info()\n",
    "print('\\n')\n",
    "print('Datenverfügbarkeit GINI/PISA Science: ')\n",
    "data_homicide_science.info()"
   ]
  },
  {
   "cell_type": "code",
   "execution_count": null,
   "metadata": {},
   "outputs": [],
   "source": [
    "data_alc_math = data_alc_math.dropna()\n",
    "\n",
    "sns.set_theme(style=\"ticks\")\n",
    "\n",
    "f, ax = plt.subplots(figsize=(7, 5))\n",
    "sns.despine(f)\n",
    "\n",
    "sns.histplot(data_homicide_read['HOMICIDES'], color='mediumaquamarine')"
   ]
  },
  {
   "cell_type": "code",
   "execution_count": null,
   "metadata": {},
   "outputs": [],
   "source": [
    "sns.boxplot(data_homicide_read['HOMICIDES'],color='mediumaquamarine')"
   ]
  },
  {
   "cell_type": "markdown",
   "metadata": {},
   "source": [
    "# Anteil der Werte, die nach der Interpolation gefüllt wurden"
   ]
  },
  {
   "cell_type": "code",
   "execution_count": null,
   "metadata": {},
   "outputs": [],
   "source": [
    "data = pd.read_csv('../../data/all_nan.csv')\n",
    "data.info()"
   ]
  }
 ],
 "metadata": {
  "kernelspec": {
   "display_name": "Python 3",
   "language": "python",
   "name": "python3"
  },
  "language_info": {
   "codemirror_mode": {
    "name": "ipython",
    "version": 3
   },
   "file_extension": ".py",
   "mimetype": "text/x-python",
   "name": "python",
   "nbconvert_exporter": "python",
   "pygments_lexer": "ipython3",
   "version": "3.8.5"
  }
 },
 "nbformat": 4,
 "nbformat_minor": 4
}
