{
 "cells": [
  {
   "cell_type": "markdown",
   "metadata": {},
   "source": [
    "# Imports"
   ]
  },
  {
   "cell_type": "code",
   "execution_count": 1,
   "metadata": {},
   "outputs": [],
   "source": [
    "#Pandas, Numpy importieren\n",
    "import pandas as pd\n",
    "import numpy as np\n",
    "import seaborn as sns\n",
    "import sklearn as sl\n",
    "import scipy.stats\n",
    "import statsmodels.api as sm\n",
    "import matplotlib.pyplot as plt\n",
    "\n",
    "#Importeieren der Modelle aus verschiedenen Bibliotheken\n",
    "from sklearn.linear_model import LinearRegression\n",
    "from statsmodels.regression.linear_model import GLS\n",
    "from linearmodels.panel import PooledOLS\n",
    "\n",
    "\n",
    "# Splitting data into training and testing\n",
    "from sklearn.model_selection import train_test_split\n",
    "from sklearn.model_selection import cross_validate\n",
    "from sklearn.model_selection import cross_val_score\n",
    "from sklearn.model_selection import StratifiedKFold, KFold\n",
    "\n",
    "from sklearn.model_selection import train_test_split\n",
    "\n",
    "# No warnings about setting value on copy of slice\n",
    "pd.options.mode.chained_assignment = None\n",
    "\n",
    "# Display up to 60 columns of a dataframe\n",
    "pd.set_option('display.max_columns', 600)\n",
    "\n",
    "# Matplotlib visualization\n",
    "%matplotlib inline\n",
    "# Set default font size\n",
    "plt.rcParams['font.size'] = 24\n",
    "\n",
    "# Internal ipython tool for setting figure size\n",
    "from IPython.core.pylabtools import figsize\n",
    "#figsize(6, 6)\n",
    "\n",
    "# Seaborn for visualization\n",
    "sns.set(font_scale = 2)"
   ]
  },
  {
   "cell_type": "markdown",
   "metadata": {},
   "source": [
    "# Import der Daten"
   ]
  },
  {
   "cell_type": "code",
   "execution_count": 2,
   "metadata": {
    "scrolled": false
   },
   "outputs": [
    {
     "name": "stdout",
     "output_type": "stream",
     "text": [
      "<class 'pandas.core.frame.DataFrame'>\n",
      "Int64Index: 230 entries, 34 to 48\n",
      "Data columns (total 14 columns):\n",
      " #   Column             Non-Null Count  Dtype  \n",
      "---  ------             --------------  -----  \n",
      " 0   LOCATION           230 non-null    object \n",
      " 1   SUBJECT            230 non-null    object \n",
      " 2   TIME               230 non-null    float64\n",
      " 3   PISA Math          230 non-null    float64\n",
      " 4   GINI               230 non-null    float64\n",
      " 5   STR_SRY            230 non-null    float64\n",
      " 6   CPI                230 non-null    float64\n",
      " 7   ALC_PC             230 non-null    float64\n",
      " 8   INTERNET_PC        230 non-null    float64\n",
      " 9   HOMICIDES          230 non-null    float64\n",
      " 10  log(MIGRANTS)      230 non-null    float64\n",
      " 11  log(GDP)           230 non-null    float64\n",
      " 12  log(EDU_SPENDING)  230 non-null    float64\n",
      " 13  log(PCT_EDU_TRY)   230 non-null    float64\n",
      "dtypes: float64(12), object(2)\n",
      "memory usage: 27.0+ KB\n"
     ]
    }
   ],
   "source": [
    "pd.set_option('display.max_columns', 600)\n",
    "\n",
    "data = pd.read_csv('../data/math_imputed_2.csv')\n",
    "data = data.sample(frac=1)\n",
    "\n",
    "data.info()\n",
    "#data.head()"
   ]
  },
  {
   "cell_type": "markdown",
   "metadata": {},
   "source": [
    "# Multindizes hinzufügen für PooledOLS"
   ]
  },
  {
   "cell_type": "code",
   "execution_count": 3,
   "metadata": {},
   "outputs": [],
   "source": [
    "time = pd.Categorical(data[\"TIME\"])\n",
    "location = pd.Categorical(data[\"LOCATION\"])\n",
    "data = data.set_index(['LOCATION', 'TIME'])\n",
    "data['TIME'] = time\n",
    "data['LOCATION'] = location\n",
    "# print(data)"
   ]
  },
  {
   "cell_type": "markdown",
   "metadata": {},
   "source": [
    "## Vergleich der verschiedenen Schätzmethoden für Cov(b) anhand der t-Werte"
   ]
  },
  {
   "cell_type": "code",
   "execution_count": 4,
   "metadata": {},
   "outputs": [
    {
     "name": "stdout",
     "output_type": "stream",
     "text": [
      "                                 Model Comparison                                 \n",
      "==================================================================================\n",
      "                        Unadjusted      Robust Years clustered Countries clustered\n",
      "----------------------------------------------------------------------------------\n",
      "Dep. Variable            PISA Math   PISA Math       PISA Math           PISA Math\n",
      "Estimator                PooledOLS   PooledOLS       PooledOLS           PooledOLS\n",
      "No. Observations               230         230             230                 230\n",
      "Cov. Est.               Unadjusted      Robust       Clustered           Clustered\n",
      "R-squared                   0.7844      0.7844          0.7844              0.7844\n",
      "R-Squared (Within)         -0.5583     -0.5583         -0.5583             -0.5583\n",
      "R-Squared (Between)         0.8493      0.8493          0.8493              0.8493\n",
      "R-Squared (Overall)         0.7844      0.7844          0.7844              0.7844\n",
      "F-statistic                 204.65      204.65          204.65              204.65\n",
      "P-value (F-stat)            0.0000      0.0000          0.0000              0.0000\n",
      "===================== ============ ===========     ===========         ===========\n",
      "const                       414.42      414.42          414.42              414.42\n",
      "                          (25.043)    (23.036)        (34.329)            (13.095)\n",
      "GINI                       -206.40     -206.40         -206.40             -206.40\n",
      "                         (-6.5482)   (-6.8105)       (-11.157)           (-3.8948)\n",
      "log(PCT_EDU_TRY)            34.025      34.025          34.025              34.025\n",
      "                          (10.985)    (10.886)        (16.853)            (6.0645)\n",
      "ALC_PC                      3.5778      3.5778          3.5778              3.5778\n",
      "                          (7.3159)    (7.3297)        (20.533)            (4.0359)\n",
      "HOMICIDES                  -1.7820     -1.7820         -1.7820             -1.7820\n",
      "                         (-6.0263)   (-6.7171)       (-16.166)           (-3.5657)\n",
      "----------------------------------------------------------------------------------\n",
      "\n",
      "T-stats reported in parentheses\n"
     ]
    }
   ],
   "source": [
    "from linearmodels.panel import PooledOLS\n",
    "import statsmodels.api as sm\n",
    "exog_vars = ['GINI', 'log(PCT_EDU_TRY)', 'ALC_PC', 'HOMICIDES']\n",
    "exog = sm.add_constant(data[exog_vars])\n",
    "# data = data.drop(columns={\"LOCATION\", \"TIME\", \"SUBJECT\"})\n",
    "\n",
    "mod = PooledOLS(data[\"PISA Math\"], exog)\n",
    "\n",
    "ols_errors = mod.fit()\n",
    "clustered = mod.fit(cov_type='clustered', clusters=data.LOCATION)\n",
    "clust_time = mod.fit(cov_type='clustered', clusters=data.TIME)\n",
    "clust_entity_time = mod.fit(cov_type='clustered', cluster_entity=True, cluster_time=True)\n",
    "# White Standardfehler \n",
    "robust = mod.fit(cov_type='robust')\n",
    "\n",
    "\n",
    "from linearmodels.panel import compare\n",
    "\n",
    "from collections import OrderedDict\n",
    "res = OrderedDict()\n",
    "res[\"Unadjusted\"] = ols_errors\n",
    "res['Robust'] = robust\n",
    "res['Years clustered'] = clust_time\n",
    "# res['Years & Countries clustered'] = clust_entity_time\n",
    "res['Countries clustered'] = clustered\n",
    "print(compare(res))\n",
    "# print(pooled_res)\n",
    "# print(clust_entity_time)"
   ]
  }
 ],
 "metadata": {
  "kernelspec": {
   "display_name": "Python 3",
   "language": "python",
   "name": "python3"
  },
  "language_info": {
   "codemirror_mode": {
    "name": "ipython",
    "version": 3
   },
   "file_extension": ".py",
   "mimetype": "text/x-python",
   "name": "python",
   "nbconvert_exporter": "python",
   "pygments_lexer": "ipython3",
   "version": "3.8.8"
  }
 },
 "nbformat": 4,
 "nbformat_minor": 4
}
